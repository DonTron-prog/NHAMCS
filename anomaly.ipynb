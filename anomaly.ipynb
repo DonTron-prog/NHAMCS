{
 "metadata": {
  "language_info": {
   "codemirror_mode": {
    "name": "ipython",
    "version": 3
   },
   "file_extension": ".py",
   "mimetype": "text/x-python",
   "name": "python",
   "nbconvert_exporter": "python",
   "pygments_lexer": "ipython3",
   "version": "3.8.5"
  },
  "orig_nbformat": 2,
  "kernelspec": {
   "name": "python385jvsc74a57bd0e134e05457d34029b6460cd73bbf1ed73f339b5b6d98c95be70b69eba114fe95",
   "display_name": "Python 3.8.5 64-bit ('base': conda)"
  }
 },
 "nbformat": 4,
 "nbformat_minor": 2,
 "cells": [
  {
   "cell_type": "code",
   "execution_count": 8,
   "metadata": {},
   "outputs": [],
   "source": [
    "import os\n",
    "import pandas as pd\n",
    "import numpy as np\n",
    "import seaborn as sns\n",
    "\n",
    "sns.set()"
   ]
  },
  {
   "source": [
    "# Anomaly detection in NHAMCS data"
   ],
   "cell_type": "markdown",
   "metadata": {}
  },
  {
   "source": [
    "## Loading the dataset\n",
    "\n",
    "The NHAMCS dataset is loaded, where aach row represents a patient visit. All columns except those related to the date of the visit and the reason for the visit are discarded. The primary reason for visit column (RFV1) is categorical, with each symptom being assigned a unique numeric code.\n",
    "\n",
    "Here, the visit year, month, and day are combined into a datetime and the original date columns are discarded."
   ],
   "cell_type": "markdown",
   "metadata": {}
  },
  {
   "cell_type": "code",
   "execution_count": 9,
   "metadata": {},
   "outputs": [
    {
     "output_type": "execute_result",
     "data": {
      "text/plain": [
       "      RFV1       date\n",
       "0  10100.0 2015-12-01\n",
       "1  55450.0 2015-12-01\n",
       "2  10100.0 2015-12-06\n",
       "3  15451.0 2015-12-04\n",
       "4  55450.0 2015-11-02\n",
       "5  10100.0 2015-12-01\n",
       "6  14400.0 2015-12-07\n",
       "7  14400.0 2015-12-04\n",
       "8  55050.0 2015-12-07\n",
       "9  18600.0 2015-12-06"
      ],
      "text/html": "<div>\n<style scoped>\n    .dataframe tbody tr th:only-of-type {\n        vertical-align: middle;\n    }\n\n    .dataframe tbody tr th {\n        vertical-align: top;\n    }\n\n    .dataframe thead th {\n        text-align: right;\n    }\n</style>\n<table border=\"1\" class=\"dataframe\">\n  <thead>\n    <tr style=\"text-align: right;\">\n      <th></th>\n      <th>RFV1</th>\n      <th>date</th>\n    </tr>\n  </thead>\n  <tbody>\n    <tr>\n      <th>0</th>\n      <td>10100.0</td>\n      <td>2015-12-01</td>\n    </tr>\n    <tr>\n      <th>1</th>\n      <td>55450.0</td>\n      <td>2015-12-01</td>\n    </tr>\n    <tr>\n      <th>2</th>\n      <td>10100.0</td>\n      <td>2015-12-06</td>\n    </tr>\n    <tr>\n      <th>3</th>\n      <td>15451.0</td>\n      <td>2015-12-04</td>\n    </tr>\n    <tr>\n      <th>4</th>\n      <td>55450.0</td>\n      <td>2015-11-02</td>\n    </tr>\n    <tr>\n      <th>5</th>\n      <td>10100.0</td>\n      <td>2015-12-01</td>\n    </tr>\n    <tr>\n      <th>6</th>\n      <td>14400.0</td>\n      <td>2015-12-07</td>\n    </tr>\n    <tr>\n      <th>7</th>\n      <td>14400.0</td>\n      <td>2015-12-04</td>\n    </tr>\n    <tr>\n      <th>8</th>\n      <td>55050.0</td>\n      <td>2015-12-07</td>\n    </tr>\n    <tr>\n      <th>9</th>\n      <td>18600.0</td>\n      <td>2015-12-06</td>\n    </tr>\n  </tbody>\n</table>\n</div>"
     },
     "metadata": {},
     "execution_count": 9
    }
   ],
   "source": [
    "years = [\n",
    "    2015,\n",
    "    2016,\n",
    "    2017,\n",
    "    2018,\n",
    "]\n",
    "\n",
    "cols = [\n",
    "    'VMONTH',\n",
    "    'VDAYR',\n",
    "    'RFV1',\n",
    "]\n",
    "\n",
    "col_rename = {\n",
    "    'VMONTH': 'month',\n",
    "    'VDAYR': 'day',\n",
    "}\n",
    "\n",
    "na = {\n",
    "    'RFV1': -9,\n",
    "}\n",
    "\n",
    "def get_nhamcs_data(years):\n",
    "    for year in years:\n",
    "        df = pd.read_csv(\n",
    "            os.path.join('data', 'nhamcs2018.csv'),\n",
    "            usecols=cols,\n",
    "            na_values=na,\n",
    "        )\n",
    "        df['year'] = year\n",
    "        yield df\n",
    "\n",
    "frames = list(get_nhamcs_data(years))\n",
    "nhamcs = pd.concat(frames, join='inner', ignore_index=True)\n",
    "\n",
    "nhamcs.rename(columns=col_rename, inplace=True)\n",
    "nhamcs['date'] = pd.to_datetime(nhamcs[['year', 'month', 'day']])\n",
    "nhamcs.drop([\n",
    "        'year',\n",
    "        'month',\n",
    "        'day',\n",
    "    ],\n",
    "    axis=1,\n",
    "    inplace=True,\n",
    ")\n",
    "\n",
    "nhamcs.head(10)"
   ]
  },
  {
   "source": [
    "## Creating feature vectors\n",
    "\n",
    "The reasons for the visit are restricting to only those associated with flu-like symptoms. The categorical information is replaced with a new one-hot encoding, with one column for each symptom.\n",
    "\n",
    "To create the feature vectors, the symptom are grouped by date with each row representing the fraction of patients visiting for that symptom as a fraction of the total visits."
   ],
   "cell_type": "markdown",
   "metadata": {}
  },
  {
   "cell_type": "code",
   "execution_count": 10,
   "metadata": {},
   "outputs": [
    {
     "output_type": "execute_result",
     "data": {
      "text/plain": [
       "            RFV_10050.0  RFV_10100.0  RFV_10150.0  RFV_10200.0  RFV_10250.0  \\\n",
       "date                                                                          \n",
       "2015-01-01     0.000000     0.004545     0.000000     0.001269      0.00000   \n",
       "2015-01-02     0.014706     0.009659     0.011628     0.005076      0.01087   \n",
       "2015-01-03     0.000000     0.007670     0.011628     0.006345      0.00000   \n",
       "2015-01-04     0.000000     0.007955     0.011628     0.002538      0.01087   \n",
       "2015-01-05     0.000000     0.005682     0.000000     0.005076      0.00000   \n",
       "\n",
       "            RFV_10300.0  RFV_10350.0  RFV_10352.0  RFV_10353.0  RFV_10501.0  \\\n",
       "date                                                                          \n",
       "2015-01-01     0.003937          0.0          0.0          0.0     0.002361   \n",
       "2015-01-02     0.003937          0.0          0.0          0.0     0.004722   \n",
       "2015-01-03     0.000000          0.0          0.0          0.0     0.005509   \n",
       "2015-01-04     0.003937          0.0          0.0          0.0     0.002886   \n",
       "2015-01-05     0.005906          0.0          0.0          0.0     0.004460   \n",
       "\n",
       "            ...  RFV_14851.0  RFV_15250.0  RFV_15300.0  RFV_15350.0  \\\n",
       "date        ...                                                       \n",
       "2015-01-01  ...          0.0     0.000926     0.006410          0.0   \n",
       "2015-01-02  ...          0.0     0.004630     0.009259          0.0   \n",
       "2015-01-03  ...          0.0     0.005556     0.007835          0.0   \n",
       "2015-01-04  ...          0.0     0.005556     0.007835          0.0   \n",
       "2015-01-05  ...          0.0     0.002778     0.008547          0.0   \n",
       "\n",
       "            RFV_15400.0  RFV_15450.0  RFV_15451.0  RFV_16150.0  RFV_19651.0  \\\n",
       "date                                                                          \n",
       "2015-01-01          0.0     0.011905     0.002155     0.000000     0.035714   \n",
       "2015-01-02          0.0     0.003968     0.003918     0.027778     0.035714   \n",
       "2015-01-03          0.0     0.003968     0.003527     0.000000     0.000000   \n",
       "2015-01-04          0.0     0.011905     0.004898     0.013889     0.000000   \n",
       "2015-01-05          0.0     0.000000     0.002743     0.000000     0.000000   \n",
       "\n",
       "            RFV_46050.0  \n",
       "date                     \n",
       "2015-01-01     0.000000  \n",
       "2015-01-02     0.004032  \n",
       "2015-01-03     0.004032  \n",
       "2015-01-04     0.016129  \n",
       "2015-01-05     0.004032  \n",
       "\n",
       "[5 rows x 55 columns]"
      ],
      "text/html": "<div>\n<style scoped>\n    .dataframe tbody tr th:only-of-type {\n        vertical-align: middle;\n    }\n\n    .dataframe tbody tr th {\n        vertical-align: top;\n    }\n\n    .dataframe thead th {\n        text-align: right;\n    }\n</style>\n<table border=\"1\" class=\"dataframe\">\n  <thead>\n    <tr style=\"text-align: right;\">\n      <th></th>\n      <th>RFV_10050.0</th>\n      <th>RFV_10100.0</th>\n      <th>RFV_10150.0</th>\n      <th>RFV_10200.0</th>\n      <th>RFV_10250.0</th>\n      <th>RFV_10300.0</th>\n      <th>RFV_10350.0</th>\n      <th>RFV_10352.0</th>\n      <th>RFV_10353.0</th>\n      <th>RFV_10501.0</th>\n      <th>...</th>\n      <th>RFV_14851.0</th>\n      <th>RFV_15250.0</th>\n      <th>RFV_15300.0</th>\n      <th>RFV_15350.0</th>\n      <th>RFV_15400.0</th>\n      <th>RFV_15450.0</th>\n      <th>RFV_15451.0</th>\n      <th>RFV_16150.0</th>\n      <th>RFV_19651.0</th>\n      <th>RFV_46050.0</th>\n    </tr>\n    <tr>\n      <th>date</th>\n      <th></th>\n      <th></th>\n      <th></th>\n      <th></th>\n      <th></th>\n      <th></th>\n      <th></th>\n      <th></th>\n      <th></th>\n      <th></th>\n      <th></th>\n      <th></th>\n      <th></th>\n      <th></th>\n      <th></th>\n      <th></th>\n      <th></th>\n      <th></th>\n      <th></th>\n      <th></th>\n      <th></th>\n    </tr>\n  </thead>\n  <tbody>\n    <tr>\n      <th>2015-01-01</th>\n      <td>0.000000</td>\n      <td>0.004545</td>\n      <td>0.000000</td>\n      <td>0.001269</td>\n      <td>0.00000</td>\n      <td>0.003937</td>\n      <td>0.0</td>\n      <td>0.0</td>\n      <td>0.0</td>\n      <td>0.002361</td>\n      <td>...</td>\n      <td>0.0</td>\n      <td>0.000926</td>\n      <td>0.006410</td>\n      <td>0.0</td>\n      <td>0.0</td>\n      <td>0.011905</td>\n      <td>0.002155</td>\n      <td>0.000000</td>\n      <td>0.035714</td>\n      <td>0.000000</td>\n    </tr>\n    <tr>\n      <th>2015-01-02</th>\n      <td>0.014706</td>\n      <td>0.009659</td>\n      <td>0.011628</td>\n      <td>0.005076</td>\n      <td>0.01087</td>\n      <td>0.003937</td>\n      <td>0.0</td>\n      <td>0.0</td>\n      <td>0.0</td>\n      <td>0.004722</td>\n      <td>...</td>\n      <td>0.0</td>\n      <td>0.004630</td>\n      <td>0.009259</td>\n      <td>0.0</td>\n      <td>0.0</td>\n      <td>0.003968</td>\n      <td>0.003918</td>\n      <td>0.027778</td>\n      <td>0.035714</td>\n      <td>0.004032</td>\n    </tr>\n    <tr>\n      <th>2015-01-03</th>\n      <td>0.000000</td>\n      <td>0.007670</td>\n      <td>0.011628</td>\n      <td>0.006345</td>\n      <td>0.00000</td>\n      <td>0.000000</td>\n      <td>0.0</td>\n      <td>0.0</td>\n      <td>0.0</td>\n      <td>0.005509</td>\n      <td>...</td>\n      <td>0.0</td>\n      <td>0.005556</td>\n      <td>0.007835</td>\n      <td>0.0</td>\n      <td>0.0</td>\n      <td>0.003968</td>\n      <td>0.003527</td>\n      <td>0.000000</td>\n      <td>0.000000</td>\n      <td>0.004032</td>\n    </tr>\n    <tr>\n      <th>2015-01-04</th>\n      <td>0.000000</td>\n      <td>0.007955</td>\n      <td>0.011628</td>\n      <td>0.002538</td>\n      <td>0.01087</td>\n      <td>0.003937</td>\n      <td>0.0</td>\n      <td>0.0</td>\n      <td>0.0</td>\n      <td>0.002886</td>\n      <td>...</td>\n      <td>0.0</td>\n      <td>0.005556</td>\n      <td>0.007835</td>\n      <td>0.0</td>\n      <td>0.0</td>\n      <td>0.011905</td>\n      <td>0.004898</td>\n      <td>0.013889</td>\n      <td>0.000000</td>\n      <td>0.016129</td>\n    </tr>\n    <tr>\n      <th>2015-01-05</th>\n      <td>0.000000</td>\n      <td>0.005682</td>\n      <td>0.000000</td>\n      <td>0.005076</td>\n      <td>0.00000</td>\n      <td>0.005906</td>\n      <td>0.0</td>\n      <td>0.0</td>\n      <td>0.0</td>\n      <td>0.004460</td>\n      <td>...</td>\n      <td>0.0</td>\n      <td>0.002778</td>\n      <td>0.008547</td>\n      <td>0.0</td>\n      <td>0.0</td>\n      <td>0.000000</td>\n      <td>0.002743</td>\n      <td>0.000000</td>\n      <td>0.000000</td>\n      <td>0.004032</td>\n    </tr>\n  </tbody>\n</table>\n<p>5 rows × 55 columns</p>\n</div>"
     },
     "metadata": {},
     "execution_count": 10
    }
   ],
   "source": [
    "import rfv\n",
    "\n",
    "nhamcs = nhamcs[nhamcs[\"RFV1\"].isin(rfv.rfv1)].reindex()\n",
    "\n",
    "onehot = pd.get_dummies(nhamcs['RFV1'], prefix='RFV')\n",
    "nhamcs.drop('RFV1', axis=1, inplace=True)\n",
    "nhamcs = nhamcs.join(onehot)\n",
    "\n",
    "syndromic_features = nhamcs.groupby('date').sum().apply(lambda row: row/float(row.sum()))\n",
    "syndromic_features.head()"
   ]
  },
  {
   "cell_type": "code",
   "execution_count": null,
   "metadata": {},
   "outputs": [],
   "source": []
  },
  {
   "cell_type": "code",
   "execution_count": null,
   "metadata": {},
   "outputs": [],
   "source": []
  }
 ]
}