{
 "metadata": {
  "language_info": {
   "codemirror_mode": {
    "name": "ipython",
    "version": 3
   },
   "file_extension": ".py",
   "mimetype": "text/x-python",
   "name": "python",
   "nbconvert_exporter": "python",
   "pygments_lexer": "ipython3",
   "version": "3.8.5"
  },
  "orig_nbformat": 2,
  "kernelspec": {
   "name": "python385jvsc74a57bd0e134e05457d34029b6460cd73bbf1ed73f339b5b6d98c95be70b69eba114fe95",
   "display_name": "Python 3.8.5 64-bit ('base': conda)"
  }
 },
 "nbformat": 4,
 "nbformat_minor": 2,
 "cells": [
  {
   "cell_type": "code",
   "execution_count": 9,
   "metadata": {},
   "outputs": [],
   "source": [
    "import os\n",
    "import pandas as pd\n",
    "import numpy as np\n",
    "import seaborn as sns\n",
    "\n",
    "sns.set()"
   ]
  },
  {
   "source": [
    "# Anomaly detection in NHAMCS data"
   ],
   "cell_type": "markdown",
   "metadata": {}
  },
  {
   "source": [
    "## Loading the dataset"
   ],
   "cell_type": "markdown",
   "metadata": {}
  },
  {
   "cell_type": "code",
   "execution_count": 10,
   "metadata": {},
   "outputs": [
    {
     "output_type": "execute_result",
     "data": {
      "text/plain": [
       "      RFV1       date\n",
       "0  10100.0 2018-12-01\n",
       "1  55450.0 2018-12-01\n",
       "2  10100.0 2018-12-06\n",
       "3  15451.0 2018-12-04\n",
       "4  55450.0 2018-11-02\n",
       "5  10100.0 2018-12-01\n",
       "6  14400.0 2018-12-07\n",
       "7  14400.0 2018-12-04\n",
       "8  55050.0 2018-12-07\n",
       "9  18600.0 2018-12-06"
      ],
      "text/html": "<div>\n<style scoped>\n    .dataframe tbody tr th:only-of-type {\n        vertical-align: middle;\n    }\n\n    .dataframe tbody tr th {\n        vertical-align: top;\n    }\n\n    .dataframe thead th {\n        text-align: right;\n    }\n</style>\n<table border=\"1\" class=\"dataframe\">\n  <thead>\n    <tr style=\"text-align: right;\">\n      <th></th>\n      <th>RFV1</th>\n      <th>date</th>\n    </tr>\n  </thead>\n  <tbody>\n    <tr>\n      <th>0</th>\n      <td>10100.0</td>\n      <td>2018-12-01</td>\n    </tr>\n    <tr>\n      <th>1</th>\n      <td>55450.0</td>\n      <td>2018-12-01</td>\n    </tr>\n    <tr>\n      <th>2</th>\n      <td>10100.0</td>\n      <td>2018-12-06</td>\n    </tr>\n    <tr>\n      <th>3</th>\n      <td>15451.0</td>\n      <td>2018-12-04</td>\n    </tr>\n    <tr>\n      <th>4</th>\n      <td>55450.0</td>\n      <td>2018-11-02</td>\n    </tr>\n    <tr>\n      <th>5</th>\n      <td>10100.0</td>\n      <td>2018-12-01</td>\n    </tr>\n    <tr>\n      <th>6</th>\n      <td>14400.0</td>\n      <td>2018-12-07</td>\n    </tr>\n    <tr>\n      <th>7</th>\n      <td>14400.0</td>\n      <td>2018-12-04</td>\n    </tr>\n    <tr>\n      <th>8</th>\n      <td>55050.0</td>\n      <td>2018-12-07</td>\n    </tr>\n    <tr>\n      <th>9</th>\n      <td>18600.0</td>\n      <td>2018-12-06</td>\n    </tr>\n  </tbody>\n</table>\n</div>"
     },
     "metadata": {},
     "execution_count": 10
    }
   ],
   "source": [
    "nhamcs = pd.read_csv(\n",
    "    os.path.join('data', 'nhamcs2018.csv'),\n",
    "    usecols=[\n",
    "        'VMONTH',\n",
    "        'VDAYR',\n",
    "        'RFV1',\n",
    "    ],\n",
    "    na_values={\n",
    "        'RFV1': -9,\n",
    "    }\n",
    ")\n",
    "nhamcs['year'] = 2018\n",
    "\n",
    "nhamcs.rename(columns={\n",
    "    'VMONTH': 'month',\n",
    "    'VDAYR': 'day',\n",
    "},\n",
    "inplace=True)\n",
    "\n",
    "nhamcs['date'] = pd.to_datetime(nhamcs[['year', 'month', 'day']])\n",
    "\n",
    "nhamcs.drop([\n",
    "        'year',\n",
    "        'month',\n",
    "        'day',\n",
    "    ],\n",
    "    axis=1,\n",
    "    inplace=True,\n",
    ")\n",
    "\n",
    "nhamcs.head(10)"
   ]
  },
  {
   "source": [
    "## Creating feature vectors\n",
    "\n",
    "Restricting reasons for visit to only those associated with flu-like symptoms then switching from categorical encoding to on-hot."
   ],
   "cell_type": "markdown",
   "metadata": {}
  },
  {
   "cell_type": "code",
   "execution_count": 11,
   "metadata": {},
   "outputs": [
    {
     "output_type": "execute_result",
     "data": {
      "text/plain": [
       "         date  RFV_10050.0  RFV_10100.0  RFV_10150.0  RFV_10200.0  \\\n",
       "0  2018-12-01            0            1            0            0   \n",
       "2  2018-12-06            0            1            0            0   \n",
       "3  2018-12-04            0            0            0            0   \n",
       "5  2018-12-01            0            1            0            0   \n",
       "6  2018-12-07            0            0            0            0   \n",
       "7  2018-12-04            0            0            0            0   \n",
       "11 2018-12-04            0            0            0            0   \n",
       "12 2018-12-06            0            1            0            0   \n",
       "17 2018-12-01            0            0            0            0   \n",
       "18 2018-12-07            0            0            0            0   \n",
       "\n",
       "    RFV_10250.0  RFV_10300.0  RFV_10350.0  RFV_10352.0  RFV_10353.0  ...  \\\n",
       "0             0            0            0            0            0  ...   \n",
       "2             0            0            0            0            0  ...   \n",
       "3             0            0            0            0            0  ...   \n",
       "5             0            0            0            0            0  ...   \n",
       "6             0            0            0            0            0  ...   \n",
       "7             0            0            0            0            0  ...   \n",
       "11            0            0            0            0            0  ...   \n",
       "12            0            0            0            0            0  ...   \n",
       "17            0            0            0            0            0  ...   \n",
       "18            0            0            0            0            0  ...   \n",
       "\n",
       "    RFV_14851.0  RFV_15250.0  RFV_15300.0  RFV_15350.0  RFV_15400.0  \\\n",
       "0             0            0            0            0            0   \n",
       "2             0            0            0            0            0   \n",
       "3             0            0            0            0            0   \n",
       "5             0            0            0            0            0   \n",
       "6             0            0            0            0            0   \n",
       "7             0            0            0            0            0   \n",
       "11            0            0            0            0            0   \n",
       "12            0            0            0            0            0   \n",
       "17            0            0            0            0            0   \n",
       "18            0            0            0            0            0   \n",
       "\n",
       "    RFV_15450.0  RFV_15451.0  RFV_16150.0  RFV_19651.0  RFV_46050.0  \n",
       "0             0            0            0            0            0  \n",
       "2             0            0            0            0            0  \n",
       "3             0            1            0            0            0  \n",
       "5             0            0            0            0            0  \n",
       "6             0            0            0            0            0  \n",
       "7             0            0            0            0            0  \n",
       "11            0            1            0            0            0  \n",
       "12            0            0            0            0            0  \n",
       "17            0            0            0            0            0  \n",
       "18            0            0            0            0            0  \n",
       "\n",
       "[10 rows x 56 columns]"
      ],
      "text/html": "<div>\n<style scoped>\n    .dataframe tbody tr th:only-of-type {\n        vertical-align: middle;\n    }\n\n    .dataframe tbody tr th {\n        vertical-align: top;\n    }\n\n    .dataframe thead th {\n        text-align: right;\n    }\n</style>\n<table border=\"1\" class=\"dataframe\">\n  <thead>\n    <tr style=\"text-align: right;\">\n      <th></th>\n      <th>date</th>\n      <th>RFV_10050.0</th>\n      <th>RFV_10100.0</th>\n      <th>RFV_10150.0</th>\n      <th>RFV_10200.0</th>\n      <th>RFV_10250.0</th>\n      <th>RFV_10300.0</th>\n      <th>RFV_10350.0</th>\n      <th>RFV_10352.0</th>\n      <th>RFV_10353.0</th>\n      <th>...</th>\n      <th>RFV_14851.0</th>\n      <th>RFV_15250.0</th>\n      <th>RFV_15300.0</th>\n      <th>RFV_15350.0</th>\n      <th>RFV_15400.0</th>\n      <th>RFV_15450.0</th>\n      <th>RFV_15451.0</th>\n      <th>RFV_16150.0</th>\n      <th>RFV_19651.0</th>\n      <th>RFV_46050.0</th>\n    </tr>\n  </thead>\n  <tbody>\n    <tr>\n      <th>0</th>\n      <td>2018-12-01</td>\n      <td>0</td>\n      <td>1</td>\n      <td>0</td>\n      <td>0</td>\n      <td>0</td>\n      <td>0</td>\n      <td>0</td>\n      <td>0</td>\n      <td>0</td>\n      <td>...</td>\n      <td>0</td>\n      <td>0</td>\n      <td>0</td>\n      <td>0</td>\n      <td>0</td>\n      <td>0</td>\n      <td>0</td>\n      <td>0</td>\n      <td>0</td>\n      <td>0</td>\n    </tr>\n    <tr>\n      <th>2</th>\n      <td>2018-12-06</td>\n      <td>0</td>\n      <td>1</td>\n      <td>0</td>\n      <td>0</td>\n      <td>0</td>\n      <td>0</td>\n      <td>0</td>\n      <td>0</td>\n      <td>0</td>\n      <td>...</td>\n      <td>0</td>\n      <td>0</td>\n      <td>0</td>\n      <td>0</td>\n      <td>0</td>\n      <td>0</td>\n      <td>0</td>\n      <td>0</td>\n      <td>0</td>\n      <td>0</td>\n    </tr>\n    <tr>\n      <th>3</th>\n      <td>2018-12-04</td>\n      <td>0</td>\n      <td>0</td>\n      <td>0</td>\n      <td>0</td>\n      <td>0</td>\n      <td>0</td>\n      <td>0</td>\n      <td>0</td>\n      <td>0</td>\n      <td>...</td>\n      <td>0</td>\n      <td>0</td>\n      <td>0</td>\n      <td>0</td>\n      <td>0</td>\n      <td>0</td>\n      <td>1</td>\n      <td>0</td>\n      <td>0</td>\n      <td>0</td>\n    </tr>\n    <tr>\n      <th>5</th>\n      <td>2018-12-01</td>\n      <td>0</td>\n      <td>1</td>\n      <td>0</td>\n      <td>0</td>\n      <td>0</td>\n      <td>0</td>\n      <td>0</td>\n      <td>0</td>\n      <td>0</td>\n      <td>...</td>\n      <td>0</td>\n      <td>0</td>\n      <td>0</td>\n      <td>0</td>\n      <td>0</td>\n      <td>0</td>\n      <td>0</td>\n      <td>0</td>\n      <td>0</td>\n      <td>0</td>\n    </tr>\n    <tr>\n      <th>6</th>\n      <td>2018-12-07</td>\n      <td>0</td>\n      <td>0</td>\n      <td>0</td>\n      <td>0</td>\n      <td>0</td>\n      <td>0</td>\n      <td>0</td>\n      <td>0</td>\n      <td>0</td>\n      <td>...</td>\n      <td>0</td>\n      <td>0</td>\n      <td>0</td>\n      <td>0</td>\n      <td>0</td>\n      <td>0</td>\n      <td>0</td>\n      <td>0</td>\n      <td>0</td>\n      <td>0</td>\n    </tr>\n    <tr>\n      <th>7</th>\n      <td>2018-12-04</td>\n      <td>0</td>\n      <td>0</td>\n      <td>0</td>\n      <td>0</td>\n      <td>0</td>\n      <td>0</td>\n      <td>0</td>\n      <td>0</td>\n      <td>0</td>\n      <td>...</td>\n      <td>0</td>\n      <td>0</td>\n      <td>0</td>\n      <td>0</td>\n      <td>0</td>\n      <td>0</td>\n      <td>0</td>\n      <td>0</td>\n      <td>0</td>\n      <td>0</td>\n    </tr>\n    <tr>\n      <th>11</th>\n      <td>2018-12-04</td>\n      <td>0</td>\n      <td>0</td>\n      <td>0</td>\n      <td>0</td>\n      <td>0</td>\n      <td>0</td>\n      <td>0</td>\n      <td>0</td>\n      <td>0</td>\n      <td>...</td>\n      <td>0</td>\n      <td>0</td>\n      <td>0</td>\n      <td>0</td>\n      <td>0</td>\n      <td>0</td>\n      <td>1</td>\n      <td>0</td>\n      <td>0</td>\n      <td>0</td>\n    </tr>\n    <tr>\n      <th>12</th>\n      <td>2018-12-06</td>\n      <td>0</td>\n      <td>1</td>\n      <td>0</td>\n      <td>0</td>\n      <td>0</td>\n      <td>0</td>\n      <td>0</td>\n      <td>0</td>\n      <td>0</td>\n      <td>...</td>\n      <td>0</td>\n      <td>0</td>\n      <td>0</td>\n      <td>0</td>\n      <td>0</td>\n      <td>0</td>\n      <td>0</td>\n      <td>0</td>\n      <td>0</td>\n      <td>0</td>\n    </tr>\n    <tr>\n      <th>17</th>\n      <td>2018-12-01</td>\n      <td>0</td>\n      <td>0</td>\n      <td>0</td>\n      <td>0</td>\n      <td>0</td>\n      <td>0</td>\n      <td>0</td>\n      <td>0</td>\n      <td>0</td>\n      <td>...</td>\n      <td>0</td>\n      <td>0</td>\n      <td>0</td>\n      <td>0</td>\n      <td>0</td>\n      <td>0</td>\n      <td>0</td>\n      <td>0</td>\n      <td>0</td>\n      <td>0</td>\n    </tr>\n    <tr>\n      <th>18</th>\n      <td>2018-12-07</td>\n      <td>0</td>\n      <td>0</td>\n      <td>0</td>\n      <td>0</td>\n      <td>0</td>\n      <td>0</td>\n      <td>0</td>\n      <td>0</td>\n      <td>0</td>\n      <td>...</td>\n      <td>0</td>\n      <td>0</td>\n      <td>0</td>\n      <td>0</td>\n      <td>0</td>\n      <td>0</td>\n      <td>0</td>\n      <td>0</td>\n      <td>0</td>\n      <td>0</td>\n    </tr>\n  </tbody>\n</table>\n<p>10 rows × 56 columns</p>\n</div>"
     },
     "metadata": {},
     "execution_count": 11
    }
   ],
   "source": [
    "import rfv\n",
    "nhamcs = nhamcs[nhamcs[\"RFV1\"].isin(rfv.rfv1)].reindex()\n",
    "\n",
    "new = pd.get_dummies(nhamcs['RFV1'], prefix='RFV')\n",
    "\n",
    "nhamcs.drop('RFV1', axis=1, inplace=True)\n",
    "\n",
    "nhamcs = nhamcs.join(new)\n",
    "\n",
    "nhamcs.head(10)"
   ]
  },
  {
   "cell_type": "code",
   "execution_count": 12,
   "metadata": {},
   "outputs": [
    {
     "output_type": "execute_result",
     "data": {
      "text/plain": [
       "            RFV_10050.0  RFV_10100.0  RFV_10150.0  RFV_10200.0  RFV_10250.0  \\\n",
       "date                                                                          \n",
       "2018-01-01     0.000000     0.018182     0.000000     0.005076     0.000000   \n",
       "2018-01-02     0.058824     0.038636     0.046512     0.020305     0.043478   \n",
       "2018-01-03     0.000000     0.030682     0.046512     0.025381     0.000000   \n",
       "2018-01-04     0.000000     0.031818     0.046512     0.010152     0.043478   \n",
       "2018-01-05     0.000000     0.022727     0.000000     0.020305     0.000000   \n",
       "2018-01-06     0.058824     0.031818     0.023256     0.025381     0.021739   \n",
       "2018-01-07     0.000000     0.013636     0.023256     0.000000     0.043478   \n",
       "2018-02-01     0.000000     0.017045     0.000000     0.005076     0.021739   \n",
       "2018-02-02     0.000000     0.023864     0.023256     0.015228     0.000000   \n",
       "2018-02-03     0.000000     0.023864     0.000000     0.020305     0.021739   \n",
       "\n",
       "            RFV_10300.0  RFV_10350.0  RFV_10352.0  RFV_10353.0  RFV_10501.0  \\\n",
       "date                                                                          \n",
       "2018-01-01     0.015748     0.000000     0.000000          0.0     0.009444   \n",
       "2018-01-02     0.015748     0.000000     0.000000          0.0     0.018888   \n",
       "2018-01-03     0.000000     0.000000     0.000000          0.0     0.022036   \n",
       "2018-01-04     0.015748     0.000000     0.000000          0.0     0.011542   \n",
       "2018-01-05     0.023622     0.000000     0.000000          0.0     0.017838   \n",
       "2018-01-06     0.000000     0.000000     0.000000          0.0     0.011542   \n",
       "2018-01-07     0.000000     0.000000     0.000000          0.0     0.017838   \n",
       "2018-02-01     0.031496     0.000000     0.166667          0.0     0.008395   \n",
       "2018-02-02     0.015748     0.083333     0.000000          0.0     0.009444   \n",
       "2018-02-03     0.015748     0.000000     0.000000          0.0     0.018888   \n",
       "\n",
       "            ...  RFV_14851.0  RFV_15250.0  RFV_15300.0  RFV_15350.0  \\\n",
       "date        ...                                                       \n",
       "2018-01-01  ...          0.0     0.003704     0.025641     0.000000   \n",
       "2018-01-02  ...          0.0     0.018519     0.037037     0.000000   \n",
       "2018-01-03  ...          0.0     0.022222     0.031339     0.000000   \n",
       "2018-01-04  ...          0.0     0.022222     0.031339     0.000000   \n",
       "2018-01-05  ...          0.0     0.011111     0.034188     0.000000   \n",
       "2018-01-06  ...          0.0     0.007407     0.008547     0.000000   \n",
       "2018-01-07  ...          0.0     0.003704     0.011396     0.000000   \n",
       "2018-02-01  ...          0.0     0.011111     0.005698     0.090909   \n",
       "2018-02-02  ...          0.0     0.029630     0.017094     0.000000   \n",
       "2018-02-03  ...          0.0     0.011111     0.019943     0.000000   \n",
       "\n",
       "            RFV_15400.0  RFV_15450.0  RFV_15451.0  RFV_16150.0  RFV_19651.0  \\\n",
       "date                                                                          \n",
       "2018-01-01          0.0     0.047619     0.008621     0.000000     0.142857   \n",
       "2018-01-02          0.0     0.015873     0.015674     0.111111     0.142857   \n",
       "2018-01-03          0.0     0.015873     0.014107     0.000000     0.000000   \n",
       "2018-01-04          0.0     0.047619     0.019592     0.055556     0.000000   \n",
       "2018-01-05          0.0     0.000000     0.010972     0.000000     0.000000   \n",
       "2018-01-06          0.0     0.000000     0.009404     0.000000     0.000000   \n",
       "2018-01-07          0.0     0.000000     0.006270     0.000000     0.000000   \n",
       "2018-02-01          0.0     0.015873     0.009404     0.055556     0.000000   \n",
       "2018-02-02          0.0     0.000000     0.015674     0.000000     0.000000   \n",
       "2018-02-03          0.0     0.000000     0.009404     0.000000     0.000000   \n",
       "\n",
       "            RFV_46050.0  \n",
       "date                     \n",
       "2018-01-01     0.000000  \n",
       "2018-01-02     0.016129  \n",
       "2018-01-03     0.016129  \n",
       "2018-01-04     0.064516  \n",
       "2018-01-05     0.016129  \n",
       "2018-01-06     0.032258  \n",
       "2018-01-07     0.048387  \n",
       "2018-02-01     0.016129  \n",
       "2018-02-02     0.032258  \n",
       "2018-02-03     0.000000  \n",
       "\n",
       "[10 rows x 55 columns]"
      ],
      "text/html": "<div>\n<style scoped>\n    .dataframe tbody tr th:only-of-type {\n        vertical-align: middle;\n    }\n\n    .dataframe tbody tr th {\n        vertical-align: top;\n    }\n\n    .dataframe thead th {\n        text-align: right;\n    }\n</style>\n<table border=\"1\" class=\"dataframe\">\n  <thead>\n    <tr style=\"text-align: right;\">\n      <th></th>\n      <th>RFV_10050.0</th>\n      <th>RFV_10100.0</th>\n      <th>RFV_10150.0</th>\n      <th>RFV_10200.0</th>\n      <th>RFV_10250.0</th>\n      <th>RFV_10300.0</th>\n      <th>RFV_10350.0</th>\n      <th>RFV_10352.0</th>\n      <th>RFV_10353.0</th>\n      <th>RFV_10501.0</th>\n      <th>...</th>\n      <th>RFV_14851.0</th>\n      <th>RFV_15250.0</th>\n      <th>RFV_15300.0</th>\n      <th>RFV_15350.0</th>\n      <th>RFV_15400.0</th>\n      <th>RFV_15450.0</th>\n      <th>RFV_15451.0</th>\n      <th>RFV_16150.0</th>\n      <th>RFV_19651.0</th>\n      <th>RFV_46050.0</th>\n    </tr>\n    <tr>\n      <th>date</th>\n      <th></th>\n      <th></th>\n      <th></th>\n      <th></th>\n      <th></th>\n      <th></th>\n      <th></th>\n      <th></th>\n      <th></th>\n      <th></th>\n      <th></th>\n      <th></th>\n      <th></th>\n      <th></th>\n      <th></th>\n      <th></th>\n      <th></th>\n      <th></th>\n      <th></th>\n      <th></th>\n      <th></th>\n    </tr>\n  </thead>\n  <tbody>\n    <tr>\n      <th>2018-01-01</th>\n      <td>0.000000</td>\n      <td>0.018182</td>\n      <td>0.000000</td>\n      <td>0.005076</td>\n      <td>0.000000</td>\n      <td>0.015748</td>\n      <td>0.000000</td>\n      <td>0.000000</td>\n      <td>0.0</td>\n      <td>0.009444</td>\n      <td>...</td>\n      <td>0.0</td>\n      <td>0.003704</td>\n      <td>0.025641</td>\n      <td>0.000000</td>\n      <td>0.0</td>\n      <td>0.047619</td>\n      <td>0.008621</td>\n      <td>0.000000</td>\n      <td>0.142857</td>\n      <td>0.000000</td>\n    </tr>\n    <tr>\n      <th>2018-01-02</th>\n      <td>0.058824</td>\n      <td>0.038636</td>\n      <td>0.046512</td>\n      <td>0.020305</td>\n      <td>0.043478</td>\n      <td>0.015748</td>\n      <td>0.000000</td>\n      <td>0.000000</td>\n      <td>0.0</td>\n      <td>0.018888</td>\n      <td>...</td>\n      <td>0.0</td>\n      <td>0.018519</td>\n      <td>0.037037</td>\n      <td>0.000000</td>\n      <td>0.0</td>\n      <td>0.015873</td>\n      <td>0.015674</td>\n      <td>0.111111</td>\n      <td>0.142857</td>\n      <td>0.016129</td>\n    </tr>\n    <tr>\n      <th>2018-01-03</th>\n      <td>0.000000</td>\n      <td>0.030682</td>\n      <td>0.046512</td>\n      <td>0.025381</td>\n      <td>0.000000</td>\n      <td>0.000000</td>\n      <td>0.000000</td>\n      <td>0.000000</td>\n      <td>0.0</td>\n      <td>0.022036</td>\n      <td>...</td>\n      <td>0.0</td>\n      <td>0.022222</td>\n      <td>0.031339</td>\n      <td>0.000000</td>\n      <td>0.0</td>\n      <td>0.015873</td>\n      <td>0.014107</td>\n      <td>0.000000</td>\n      <td>0.000000</td>\n      <td>0.016129</td>\n    </tr>\n    <tr>\n      <th>2018-01-04</th>\n      <td>0.000000</td>\n      <td>0.031818</td>\n      <td>0.046512</td>\n      <td>0.010152</td>\n      <td>0.043478</td>\n      <td>0.015748</td>\n      <td>0.000000</td>\n      <td>0.000000</td>\n      <td>0.0</td>\n      <td>0.011542</td>\n      <td>...</td>\n      <td>0.0</td>\n      <td>0.022222</td>\n      <td>0.031339</td>\n      <td>0.000000</td>\n      <td>0.0</td>\n      <td>0.047619</td>\n      <td>0.019592</td>\n      <td>0.055556</td>\n      <td>0.000000</td>\n      <td>0.064516</td>\n    </tr>\n    <tr>\n      <th>2018-01-05</th>\n      <td>0.000000</td>\n      <td>0.022727</td>\n      <td>0.000000</td>\n      <td>0.020305</td>\n      <td>0.000000</td>\n      <td>0.023622</td>\n      <td>0.000000</td>\n      <td>0.000000</td>\n      <td>0.0</td>\n      <td>0.017838</td>\n      <td>...</td>\n      <td>0.0</td>\n      <td>0.011111</td>\n      <td>0.034188</td>\n      <td>0.000000</td>\n      <td>0.0</td>\n      <td>0.000000</td>\n      <td>0.010972</td>\n      <td>0.000000</td>\n      <td>0.000000</td>\n      <td>0.016129</td>\n    </tr>\n    <tr>\n      <th>2018-01-06</th>\n      <td>0.058824</td>\n      <td>0.031818</td>\n      <td>0.023256</td>\n      <td>0.025381</td>\n      <td>0.021739</td>\n      <td>0.000000</td>\n      <td>0.000000</td>\n      <td>0.000000</td>\n      <td>0.0</td>\n      <td>0.011542</td>\n      <td>...</td>\n      <td>0.0</td>\n      <td>0.007407</td>\n      <td>0.008547</td>\n      <td>0.000000</td>\n      <td>0.0</td>\n      <td>0.000000</td>\n      <td>0.009404</td>\n      <td>0.000000</td>\n      <td>0.000000</td>\n      <td>0.032258</td>\n    </tr>\n    <tr>\n      <th>2018-01-07</th>\n      <td>0.000000</td>\n      <td>0.013636</td>\n      <td>0.023256</td>\n      <td>0.000000</td>\n      <td>0.043478</td>\n      <td>0.000000</td>\n      <td>0.000000</td>\n      <td>0.000000</td>\n      <td>0.0</td>\n      <td>0.017838</td>\n      <td>...</td>\n      <td>0.0</td>\n      <td>0.003704</td>\n      <td>0.011396</td>\n      <td>0.000000</td>\n      <td>0.0</td>\n      <td>0.000000</td>\n      <td>0.006270</td>\n      <td>0.000000</td>\n      <td>0.000000</td>\n      <td>0.048387</td>\n    </tr>\n    <tr>\n      <th>2018-02-01</th>\n      <td>0.000000</td>\n      <td>0.017045</td>\n      <td>0.000000</td>\n      <td>0.005076</td>\n      <td>0.021739</td>\n      <td>0.031496</td>\n      <td>0.000000</td>\n      <td>0.166667</td>\n      <td>0.0</td>\n      <td>0.008395</td>\n      <td>...</td>\n      <td>0.0</td>\n      <td>0.011111</td>\n      <td>0.005698</td>\n      <td>0.090909</td>\n      <td>0.0</td>\n      <td>0.015873</td>\n      <td>0.009404</td>\n      <td>0.055556</td>\n      <td>0.000000</td>\n      <td>0.016129</td>\n    </tr>\n    <tr>\n      <th>2018-02-02</th>\n      <td>0.000000</td>\n      <td>0.023864</td>\n      <td>0.023256</td>\n      <td>0.015228</td>\n      <td>0.000000</td>\n      <td>0.015748</td>\n      <td>0.083333</td>\n      <td>0.000000</td>\n      <td>0.0</td>\n      <td>0.009444</td>\n      <td>...</td>\n      <td>0.0</td>\n      <td>0.029630</td>\n      <td>0.017094</td>\n      <td>0.000000</td>\n      <td>0.0</td>\n      <td>0.000000</td>\n      <td>0.015674</td>\n      <td>0.000000</td>\n      <td>0.000000</td>\n      <td>0.032258</td>\n    </tr>\n    <tr>\n      <th>2018-02-03</th>\n      <td>0.000000</td>\n      <td>0.023864</td>\n      <td>0.000000</td>\n      <td>0.020305</td>\n      <td>0.021739</td>\n      <td>0.015748</td>\n      <td>0.000000</td>\n      <td>0.000000</td>\n      <td>0.0</td>\n      <td>0.018888</td>\n      <td>...</td>\n      <td>0.0</td>\n      <td>0.011111</td>\n      <td>0.019943</td>\n      <td>0.000000</td>\n      <td>0.0</td>\n      <td>0.000000</td>\n      <td>0.009404</td>\n      <td>0.000000</td>\n      <td>0.000000</td>\n      <td>0.000000</td>\n    </tr>\n  </tbody>\n</table>\n<p>10 rows × 55 columns</p>\n</div>"
     },
     "metadata": {},
     "execution_count": 12
    }
   ],
   "source": [
    "syndromic_features = nhamcs.groupby('date').sum().apply(lambda row: row/float(row.sum()))\n",
    "\n",
    "syndromic_features.head(10)"
   ]
  },
  {
   "cell_type": "code",
   "execution_count": null,
   "metadata": {},
   "outputs": [],
   "source": []
  }
 ]
}