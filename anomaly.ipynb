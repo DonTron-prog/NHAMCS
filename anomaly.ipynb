{
 "metadata": {
  "language_info": {
   "codemirror_mode": {
    "name": "ipython",
    "version": 3
   },
   "file_extension": ".py",
   "mimetype": "text/x-python",
   "name": "python",
   "nbconvert_exporter": "python",
   "pygments_lexer": "ipython3",
   "version": "3.8.5"
  },
  "orig_nbformat": 2,
  "kernelspec": {
   "name": "python385jvsc74a57bd0e134e05457d34029b6460cd73bbf1ed73f339b5b6d98c95be70b69eba114fe95",
   "display_name": "Python 3.8.5 64-bit ('base': conda)"
  }
 },
 "nbformat": 4,
 "nbformat_minor": 2,
 "cells": [
  {
   "cell_type": "code",
   "execution_count": 1,
   "metadata": {},
   "outputs": [],
   "source": [
    "import os\n",
    "import pandas as pd\n",
    "import numpy as np\n",
    "import seaborn as sns\n",
    "\n",
    "sns.set()"
   ]
  },
  {
   "source": [
    "# Anomaly detection in NHAMCS data"
   ],
   "cell_type": "markdown",
   "metadata": {}
  },
  {
   "source": [
    "## Loading the dataset\n",
    "\n",
    "The NHAMCS dataset is loaded, where aach row represents a patient visit. All columns except those related to the date of the visit and the reason for the visit are discarded. The primary reason for visit column (RFV1) is categorical, with each symptom being assigned a unique numeric code.\n",
    "\n",
    "Here, the visit year, month, and day are combined into a datetime and the original date columns are discarded."
   ],
   "cell_type": "markdown",
   "metadata": {}
  },
  {
   "cell_type": "code",
   "execution_count": 2,
   "metadata": {},
   "outputs": [
    {
     "output_type": "execute_result",
     "data": {
      "text/plain": [
       "      RFV1       date\n",
       "0  19351.0 2015-11-02\n",
       "1  52250.0 2015-11-02\n",
       "2  12100.0 2015-11-03\n",
       "3  19451.0 2015-11-04\n",
       "4  19601.0 2015-11-04\n",
       "5  28000.0 2015-11-05\n",
       "6  12100.0 2015-11-06\n",
       "7  45550.0 2015-11-07\n",
       "8  34150.0 2015-11-01\n",
       "9  52100.0 2015-11-02"
      ],
      "text/html": "<div>\n<style scoped>\n    .dataframe tbody tr th:only-of-type {\n        vertical-align: middle;\n    }\n\n    .dataframe tbody tr th {\n        vertical-align: top;\n    }\n\n    .dataframe thead th {\n        text-align: right;\n    }\n</style>\n<table border=\"1\" class=\"dataframe\">\n  <thead>\n    <tr style=\"text-align: right;\">\n      <th></th>\n      <th>RFV1</th>\n      <th>date</th>\n    </tr>\n  </thead>\n  <tbody>\n    <tr>\n      <th>0</th>\n      <td>19351.0</td>\n      <td>2015-11-02</td>\n    </tr>\n    <tr>\n      <th>1</th>\n      <td>52250.0</td>\n      <td>2015-11-02</td>\n    </tr>\n    <tr>\n      <th>2</th>\n      <td>12100.0</td>\n      <td>2015-11-03</td>\n    </tr>\n    <tr>\n      <th>3</th>\n      <td>19451.0</td>\n      <td>2015-11-04</td>\n    </tr>\n    <tr>\n      <th>4</th>\n      <td>19601.0</td>\n      <td>2015-11-04</td>\n    </tr>\n    <tr>\n      <th>5</th>\n      <td>28000.0</td>\n      <td>2015-11-05</td>\n    </tr>\n    <tr>\n      <th>6</th>\n      <td>12100.0</td>\n      <td>2015-11-06</td>\n    </tr>\n    <tr>\n      <th>7</th>\n      <td>45550.0</td>\n      <td>2015-11-07</td>\n    </tr>\n    <tr>\n      <th>8</th>\n      <td>34150.0</td>\n      <td>2015-11-01</td>\n    </tr>\n    <tr>\n      <th>9</th>\n      <td>52100.0</td>\n      <td>2015-11-02</td>\n    </tr>\n  </tbody>\n</table>\n</div>"
     },
     "metadata": {},
     "execution_count": 2
    }
   ],
   "source": [
    "years = [\n",
    "    2015,\n",
    "    2016,\n",
    "    2017,\n",
    "    2018,\n",
    "]\n",
    "\n",
    "cols = [\n",
    "    'VMONTH',\n",
    "    'VDAYR',\n",
    "    'RFV1',\n",
    "]\n",
    "\n",
    "col_rename = {\n",
    "    'VMONTH': 'month',\n",
    "    'VDAYR': 'day',\n",
    "}\n",
    "\n",
    "na = {\n",
    "    'RFV1': -9,\n",
    "}\n",
    "\n",
    "def get_nhamcs_data(years):\n",
    "    for year in years:\n",
    "        df = pd.read_csv(\n",
    "            os.path.join('data', 'nhamcs{}.csv'.format(year)),\n",
    "            usecols=cols,\n",
    "            na_values=na,\n",
    "        )\n",
    "        df['year'] = year\n",
    "        yield df\n",
    "\n",
    "frames = list(get_nhamcs_data(years))\n",
    "nhamcs = pd.concat(frames, join='inner', ignore_index=True)\n",
    "\n",
    "nhamcs.rename(columns=col_rename, inplace=True)\n",
    "nhamcs['date'] = pd.to_datetime(nhamcs[['year', 'month', 'day']])\n",
    "nhamcs.drop([\n",
    "        'year',\n",
    "        'month',\n",
    "        'day',\n",
    "    ],\n",
    "    axis=1,\n",
    "    inplace=True,\n",
    ")\n",
    "\n",
    "nhamcs.head(10)"
   ]
  },
  {
   "source": [
    "## Creating feature vectors\n",
    "\n",
    "The reasons for the visit are restricting to only those associated with flu-like symptoms. The categorical information is replaced with a new one-hot encoding, with one column for each symptom.\n",
    "\n",
    "To create the feature vectors, the symptom are grouped by date with each row representing the fraction of patients visiting for that symptom as a fraction of the total visits."
   ],
   "cell_type": "markdown",
   "metadata": {}
  },
  {
   "cell_type": "code",
   "execution_count": 3,
   "metadata": {},
   "outputs": [
    {
     "output_type": "execute_result",
     "data": {
      "text/plain": [
       "            RFV_10050.0  RFV_10100.0  RFV_10150.0  RFV_10200.0  RFV_10250.0  \\\n",
       "date                                                                          \n",
       "2015-01-01     0.000000     0.001638     0.000000     0.004208     0.005291   \n",
       "2015-01-02     0.017241     0.003932     0.000000     0.004208     0.005291   \n",
       "2015-01-03     0.000000     0.003277     0.005587     0.001403     0.000000   \n",
       "2015-01-04     0.000000     0.003604     0.000000     0.001403     0.010582   \n",
       "2015-01-05     0.000000     0.004260     0.000000     0.002805     0.005291   \n",
       "\n",
       "            RFV_10300.0  RFV_10350.0  RFV_10352.0  RFV_10353.0  RFV_10500.0  \\\n",
       "date                                                                          \n",
       "2015-01-01     0.005660     0.011111          0.0          0.0          0.0   \n",
       "2015-01-02     0.003774     0.000000          0.0          0.0          0.0   \n",
       "2015-01-03     0.007547     0.000000          0.0          0.0          0.0   \n",
       "2015-01-04     0.001887     0.011111          0.0          0.0          0.0   \n",
       "2015-01-05     0.001887     0.000000          0.0          0.0          0.0   \n",
       "\n",
       "            ...  RFV_14851.0  RFV_15250.0  RFV_15300.0  RFV_15350.0  \\\n",
       "date        ...                                                       \n",
       "2015-01-01  ...          0.0     0.003594     0.002099          0.0   \n",
       "2015-01-02  ...          0.0     0.003594     0.002099          0.0   \n",
       "2015-01-03  ...          0.0     0.004492     0.001400          0.0   \n",
       "2015-01-04  ...          0.0     0.001797     0.002799          0.0   \n",
       "2015-01-05  ...          0.0     0.005391     0.001400          0.0   \n",
       "\n",
       "            RFV_15400.0  RFV_15450.0  RFV_15451.0  RFV_16150.0  RFV_19651.0  \\\n",
       "date                                                                          \n",
       "2015-01-01          0.0     0.000000     0.003647     0.019608          0.0   \n",
       "2015-01-02          0.0     0.007042     0.003242     0.039216          0.0   \n",
       "2015-01-03          0.0     0.000000     0.002432     0.019608          0.0   \n",
       "2015-01-04          0.0     0.000000     0.003242     0.019608          0.0   \n",
       "2015-01-05          0.0     0.003521     0.003850     0.019608          0.0   \n",
       "\n",
       "            RFV_46050.0  \n",
       "date                     \n",
       "2015-01-01     0.008065  \n",
       "2015-01-02     0.000000  \n",
       "2015-01-03     0.000000  \n",
       "2015-01-04     0.000000  \n",
       "2015-01-05     0.004032  \n",
       "\n",
       "[5 rows x 59 columns]"
      ],
      "text/html": "<div>\n<style scoped>\n    .dataframe tbody tr th:only-of-type {\n        vertical-align: middle;\n    }\n\n    .dataframe tbody tr th {\n        vertical-align: top;\n    }\n\n    .dataframe thead th {\n        text-align: right;\n    }\n</style>\n<table border=\"1\" class=\"dataframe\">\n  <thead>\n    <tr style=\"text-align: right;\">\n      <th></th>\n      <th>RFV_10050.0</th>\n      <th>RFV_10100.0</th>\n      <th>RFV_10150.0</th>\n      <th>RFV_10200.0</th>\n      <th>RFV_10250.0</th>\n      <th>RFV_10300.0</th>\n      <th>RFV_10350.0</th>\n      <th>RFV_10352.0</th>\n      <th>RFV_10353.0</th>\n      <th>RFV_10500.0</th>\n      <th>...</th>\n      <th>RFV_14851.0</th>\n      <th>RFV_15250.0</th>\n      <th>RFV_15300.0</th>\n      <th>RFV_15350.0</th>\n      <th>RFV_15400.0</th>\n      <th>RFV_15450.0</th>\n      <th>RFV_15451.0</th>\n      <th>RFV_16150.0</th>\n      <th>RFV_19651.0</th>\n      <th>RFV_46050.0</th>\n    </tr>\n    <tr>\n      <th>date</th>\n      <th></th>\n      <th></th>\n      <th></th>\n      <th></th>\n      <th></th>\n      <th></th>\n      <th></th>\n      <th></th>\n      <th></th>\n      <th></th>\n      <th></th>\n      <th></th>\n      <th></th>\n      <th></th>\n      <th></th>\n      <th></th>\n      <th></th>\n      <th></th>\n      <th></th>\n      <th></th>\n      <th></th>\n    </tr>\n  </thead>\n  <tbody>\n    <tr>\n      <th>2015-01-01</th>\n      <td>0.000000</td>\n      <td>0.001638</td>\n      <td>0.000000</td>\n      <td>0.004208</td>\n      <td>0.005291</td>\n      <td>0.005660</td>\n      <td>0.011111</td>\n      <td>0.0</td>\n      <td>0.0</td>\n      <td>0.0</td>\n      <td>...</td>\n      <td>0.0</td>\n      <td>0.003594</td>\n      <td>0.002099</td>\n      <td>0.0</td>\n      <td>0.0</td>\n      <td>0.000000</td>\n      <td>0.003647</td>\n      <td>0.019608</td>\n      <td>0.0</td>\n      <td>0.008065</td>\n    </tr>\n    <tr>\n      <th>2015-01-02</th>\n      <td>0.017241</td>\n      <td>0.003932</td>\n      <td>0.000000</td>\n      <td>0.004208</td>\n      <td>0.005291</td>\n      <td>0.003774</td>\n      <td>0.000000</td>\n      <td>0.0</td>\n      <td>0.0</td>\n      <td>0.0</td>\n      <td>...</td>\n      <td>0.0</td>\n      <td>0.003594</td>\n      <td>0.002099</td>\n      <td>0.0</td>\n      <td>0.0</td>\n      <td>0.007042</td>\n      <td>0.003242</td>\n      <td>0.039216</td>\n      <td>0.0</td>\n      <td>0.000000</td>\n    </tr>\n    <tr>\n      <th>2015-01-03</th>\n      <td>0.000000</td>\n      <td>0.003277</td>\n      <td>0.005587</td>\n      <td>0.001403</td>\n      <td>0.000000</td>\n      <td>0.007547</td>\n      <td>0.000000</td>\n      <td>0.0</td>\n      <td>0.0</td>\n      <td>0.0</td>\n      <td>...</td>\n      <td>0.0</td>\n      <td>0.004492</td>\n      <td>0.001400</td>\n      <td>0.0</td>\n      <td>0.0</td>\n      <td>0.000000</td>\n      <td>0.002432</td>\n      <td>0.019608</td>\n      <td>0.0</td>\n      <td>0.000000</td>\n    </tr>\n    <tr>\n      <th>2015-01-04</th>\n      <td>0.000000</td>\n      <td>0.003604</td>\n      <td>0.000000</td>\n      <td>0.001403</td>\n      <td>0.010582</td>\n      <td>0.001887</td>\n      <td>0.011111</td>\n      <td>0.0</td>\n      <td>0.0</td>\n      <td>0.0</td>\n      <td>...</td>\n      <td>0.0</td>\n      <td>0.001797</td>\n      <td>0.002799</td>\n      <td>0.0</td>\n      <td>0.0</td>\n      <td>0.000000</td>\n      <td>0.003242</td>\n      <td>0.019608</td>\n      <td>0.0</td>\n      <td>0.000000</td>\n    </tr>\n    <tr>\n      <th>2015-01-05</th>\n      <td>0.000000</td>\n      <td>0.004260</td>\n      <td>0.000000</td>\n      <td>0.002805</td>\n      <td>0.005291</td>\n      <td>0.001887</td>\n      <td>0.000000</td>\n      <td>0.0</td>\n      <td>0.0</td>\n      <td>0.0</td>\n      <td>...</td>\n      <td>0.0</td>\n      <td>0.005391</td>\n      <td>0.001400</td>\n      <td>0.0</td>\n      <td>0.0</td>\n      <td>0.003521</td>\n      <td>0.003850</td>\n      <td>0.019608</td>\n      <td>0.0</td>\n      <td>0.004032</td>\n    </tr>\n  </tbody>\n</table>\n<p>5 rows × 59 columns</p>\n</div>"
     },
     "metadata": {},
     "execution_count": 3
    }
   ],
   "source": [
    "import rfv\n",
    "\n",
    "nhamcs = nhamcs[nhamcs[\"RFV1\"].isin(rfv.rfv1)].reindex()\n",
    "\n",
    "onehot = pd.get_dummies(nhamcs['RFV1'], prefix='RFV')\n",
    "nhamcs.drop('RFV1', axis=1, inplace=True)\n",
    "nhamcs = nhamcs.join(onehot)\n",
    "\n",
    "syndromic_features = nhamcs.groupby('date').sum().apply(lambda row: row/float(row.sum()))\n",
    "syndromic_features.head()"
   ]
  },
  {
   "cell_type": "code",
   "execution_count": null,
   "metadata": {},
   "outputs": [],
   "source": []
  }
 ]
}